{
  "nbformat": 4,
  "nbformat_minor": 0,
  "metadata": {
    "colab": {
      "provenance": []
    },
    "kernelspec": {
      "name": "python3",
      "display_name": "Python 3"
    },
    "language_info": {
      "name": "python"
    }
  },
  "cells": [
    {
      "cell_type": "code",
      "execution_count": 1,
      "metadata": {
        "id": "wYHJgYQXgwBk"
      },
      "outputs": [],
      "source": [
        "import pandas as pd"
      ]
    },
    {
      "cell_type": "code",
      "source": [
        "df = pd.read_csv(\"flood.csv\")"
      ],
      "metadata": {
        "id": "s7m01ieqhokl"
      },
      "execution_count": 2,
      "outputs": []
    },
    {
      "cell_type": "code",
      "source": [
        "print(\"Dataset Info:\")\n",
        "print(df.info())"
      ],
      "metadata": {
        "colab": {
          "base_uri": "https://localhost:8080/"
        },
        "id": "4o0VGvqVhtqB",
        "outputId": "13e1fd1f-a43c-42e9-fa46-5c53db121a1b"
      },
      "execution_count": 3,
      "outputs": [
        {
          "output_type": "stream",
          "name": "stdout",
          "text": [
            "Dataset Info:\n",
            "<class 'pandas.core.frame.DataFrame'>\n",
            "RangeIndex: 50000 entries, 0 to 49999\n",
            "Data columns (total 21 columns):\n",
            " #   Column                           Non-Null Count  Dtype  \n",
            "---  ------                           --------------  -----  \n",
            " 0   MonsoonIntensity                 50000 non-null  int64  \n",
            " 1   TopographyDrainage               50000 non-null  int64  \n",
            " 2   RiverManagement                  50000 non-null  int64  \n",
            " 3   Deforestation                    50000 non-null  int64  \n",
            " 4   Urbanization                     50000 non-null  int64  \n",
            " 5   ClimateChange                    50000 non-null  int64  \n",
            " 6   DamsQuality                      50000 non-null  int64  \n",
            " 7   Siltation                        50000 non-null  int64  \n",
            " 8   AgriculturalPractices            50000 non-null  int64  \n",
            " 9   Encroachments                    50000 non-null  int64  \n",
            " 10  IneffectiveDisasterPreparedness  50000 non-null  int64  \n",
            " 11  DrainageSystems                  50000 non-null  int64  \n",
            " 12  CoastalVulnerability             50000 non-null  int64  \n",
            " 13  Landslides                       50000 non-null  int64  \n",
            " 14  Watersheds                       50000 non-null  int64  \n",
            " 15  DeterioratingInfrastructure      50000 non-null  int64  \n",
            " 16  PopulationScore                  50000 non-null  int64  \n",
            " 17  WetlandLoss                      50000 non-null  int64  \n",
            " 18  InadequatePlanning               50000 non-null  int64  \n",
            " 19  PoliticalFactors                 50000 non-null  int64  \n",
            " 20  FloodProbability                 50000 non-null  float64\n",
            "dtypes: float64(1), int64(20)\n",
            "memory usage: 8.0 MB\n",
            "None\n"
          ]
        }
      ]
    },
    {
      "cell_type": "code",
      "source": [
        "print(\"\\nDataset Description:\")\n",
        "print(df.describe())"
      ],
      "metadata": {
        "colab": {
          "base_uri": "https://localhost:8080/"
        },
        "id": "rMd-0DzRhtmn",
        "outputId": "b0d0ed23-49bb-4baa-cd98-a476e476930e"
      },
      "execution_count": 4,
      "outputs": [
        {
          "output_type": "stream",
          "name": "stdout",
          "text": [
            "\n",
            "Dataset Description:\n",
            "       MonsoonIntensity  TopographyDrainage  RiverManagement  Deforestation  \\\n",
            "count      50000.000000        50000.000000      50000.00000   50000.000000   \n",
            "mean           4.991480            4.984100          5.01594       5.008480   \n",
            "std            2.236834            2.246488          2.23131       2.222743   \n",
            "min            0.000000            0.000000          0.00000       0.000000   \n",
            "25%            3.000000            3.000000          3.00000       3.000000   \n",
            "50%            5.000000            5.000000          5.00000       5.000000   \n",
            "75%            6.000000            6.000000          6.00000       6.000000   \n",
            "max           16.000000           18.000000         16.00000      17.000000   \n",
            "\n",
            "       Urbanization  ClimateChange  DamsQuality     Siltation  \\\n",
            "count  50000.000000   50000.000000  50000.00000  50000.000000   \n",
            "mean       4.989060       4.988340      5.01536      4.988600   \n",
            "std        2.243159       2.226761      2.24500      2.232642   \n",
            "min        0.000000       0.000000      0.00000      0.000000   \n",
            "25%        3.000000       3.000000      3.00000      3.000000   \n",
            "50%        5.000000       5.000000      5.00000      5.000000   \n",
            "75%        6.000000       6.000000      6.00000      6.000000   \n",
            "max       17.000000      17.000000     16.00000     16.000000   \n",
            "\n",
            "       AgriculturalPractices  Encroachments  ...  DrainageSystems  \\\n",
            "count           50000.000000   50000.000000  ...     50000.000000   \n",
            "mean                5.006120       5.006380  ...         5.006060   \n",
            "std                 2.234588       2.241633  ...         2.238107   \n",
            "min                 0.000000       0.000000  ...         0.000000   \n",
            "25%                 3.000000       3.000000  ...         3.000000   \n",
            "50%                 5.000000       5.000000  ...         5.000000   \n",
            "75%                 6.000000       6.000000  ...         6.000000   \n",
            "max                16.000000      18.000000  ...        17.000000   \n",
            "\n",
            "       CoastalVulnerability    Landslides   Watersheds  \\\n",
            "count          50000.000000  50000.000000  50000.00000   \n",
            "mean               4.999920      4.984220      4.97982   \n",
            "std                2.247101      2.227741      2.23219   \n",
            "min                0.000000      0.000000      0.00000   \n",
            "25%                3.000000      3.000000      3.00000   \n",
            "50%                5.000000      5.000000      5.00000   \n",
            "75%                6.000000      6.000000      6.00000   \n",
            "max               17.000000     16.000000     16.00000   \n",
            "\n",
            "       DeterioratingInfrastructure  PopulationScore  WetlandLoss  \\\n",
            "count                 50000.000000     50000.000000  50000.00000   \n",
            "mean                      4.988200         4.984980      5.00512   \n",
            "std                       2.231134         2.238279      2.23176   \n",
            "min                       0.000000         0.000000      0.00000   \n",
            "25%                       3.000000         3.000000      3.00000   \n",
            "50%                       5.000000         5.000000      5.00000   \n",
            "75%                       6.000000         6.000000      6.00000   \n",
            "max                      17.000000        19.000000     22.00000   \n",
            "\n",
            "       InadequatePlanning  PoliticalFactors  FloodProbability  \n",
            "count        50000.000000      50000.000000      50000.000000  \n",
            "mean             4.994360          4.990520          0.499660  \n",
            "std              2.230011          2.246075          0.050034  \n",
            "min              0.000000          0.000000          0.285000  \n",
            "25%              3.000000          3.000000          0.465000  \n",
            "50%              5.000000          5.000000          0.500000  \n",
            "75%              6.000000          6.000000          0.535000  \n",
            "max             16.000000         16.000000          0.725000  \n",
            "\n",
            "[8 rows x 21 columns]\n"
          ]
        }
      ]
    },
    {
      "cell_type": "code",
      "source": [
        "print(\"\\nMissing Values Check:\")\n",
        "print(df.isnull().sum())"
      ],
      "metadata": {
        "colab": {
          "base_uri": "https://localhost:8080/"
        },
        "id": "Hg0jVp7hhtkE",
        "outputId": "04635ff4-f05d-4ed7-fdba-a902464494e1"
      },
      "execution_count": 5,
      "outputs": [
        {
          "output_type": "stream",
          "name": "stdout",
          "text": [
            "\n",
            "Missing Values Check:\n",
            "MonsoonIntensity                   0\n",
            "TopographyDrainage                 0\n",
            "RiverManagement                    0\n",
            "Deforestation                      0\n",
            "Urbanization                       0\n",
            "ClimateChange                      0\n",
            "DamsQuality                        0\n",
            "Siltation                          0\n",
            "AgriculturalPractices              0\n",
            "Encroachments                      0\n",
            "IneffectiveDisasterPreparedness    0\n",
            "DrainageSystems                    0\n",
            "CoastalVulnerability               0\n",
            "Landslides                         0\n",
            "Watersheds                         0\n",
            "DeterioratingInfrastructure        0\n",
            "PopulationScore                    0\n",
            "WetlandLoss                        0\n",
            "InadequatePlanning                 0\n",
            "PoliticalFactors                   0\n",
            "FloodProbability                   0\n",
            "dtype: int64\n"
          ]
        }
      ]
    },
    {
      "cell_type": "code",
      "source": [
        "print(\"\\nFirst 5 Rows:\")\n",
        "print(df.head())"
      ],
      "metadata": {
        "colab": {
          "base_uri": "https://localhost:8080/"
        },
        "id": "tEu2XvM6h5Sd",
        "outputId": "01485608-d45b-4d8b-b2f3-0a4dcb362c6a"
      },
      "execution_count": 6,
      "outputs": [
        {
          "output_type": "stream",
          "name": "stdout",
          "text": [
            "\n",
            "First 5 Rows:\n",
            "   MonsoonIntensity  TopographyDrainage  RiverManagement  Deforestation  \\\n",
            "0                 3                   8                6              6   \n",
            "1                 8                   4                5              7   \n",
            "2                 3                  10                4              1   \n",
            "3                 4                   4                2              7   \n",
            "4                 3                   7                5              2   \n",
            "\n",
            "   Urbanization  ClimateChange  DamsQuality  Siltation  AgriculturalPractices  \\\n",
            "0             4              4            6          2                      3   \n",
            "1             7              9            1          5                      5   \n",
            "2             7              5            4          7                      4   \n",
            "3             3              4            1          4                      6   \n",
            "4             5              8            5          2                      7   \n",
            "\n",
            "   Encroachments  ...  DrainageSystems  CoastalVulnerability  Landslides  \\\n",
            "0              2  ...               10                     7           4   \n",
            "1              4  ...                9                     2           6   \n",
            "2              9  ...                7                     4           4   \n",
            "3              4  ...                4                     2           6   \n",
            "4              5  ...                7                     6           5   \n",
            "\n",
            "   Watersheds  DeterioratingInfrastructure  PopulationScore  WetlandLoss  \\\n",
            "0           2                            3                4            3   \n",
            "1           2                            1                1            9   \n",
            "2           8                            6                1            8   \n",
            "3           6                            8                8            6   \n",
            "4           3                            3                4            4   \n",
            "\n",
            "   InadequatePlanning  PoliticalFactors  FloodProbability  \n",
            "0                   2                 6             0.450  \n",
            "1                   1                 3             0.475  \n",
            "2                   3                 6             0.515  \n",
            "3                   6                10             0.520  \n",
            "4                   3                 4             0.475  \n",
            "\n",
            "[5 rows x 21 columns]\n"
          ]
        }
      ]
    }
  ]
}